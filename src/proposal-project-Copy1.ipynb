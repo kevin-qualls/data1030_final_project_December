{
 "cells": [
  {
   "cell_type": "markdown",
   "metadata": {},
   "source": [
    "## Kevin Qualls - DATA 1030 - Project Proposal - Due Sep. 30, 2019"
   ]
  },
  {
   "cell_type": "code",
   "execution_count": 71,
   "metadata": {},
   "outputs": [],
   "source": [
    "# import packages\n",
    "import pandas as pd\n",
    "\n",
    "from datetime import datetime\n",
    "\n",
    "from sklearn.preprocessing import OrdinalEncoder\n",
    "from sklearn.preprocessing import OneHotEncoder\n",
    "from sklearn.preprocessing import MinMaxScaler\n",
    "from sklearn.preprocessing import StandardScaler\n",
    "from sklearn.preprocessing import LabelEncoder\n",
    "\n",
    "import sklearn.metrics \n",
    "\n",
    "from sklearn.impute import SimpleImputer\n",
    "\n",
    "import numpy as np \n",
    "\n",
    "from sklearn.experimental import enable_iterative_imputer\n",
    "from sklearn.impute import IterativeImputer\n",
    "from sklearn.ensemble import RandomForestRegressor\n",
    "\n",
    "# matplotlib - customizable plots\n",
    "import matplotlib\n",
    "from matplotlib import pylab as plt\n",
    "import seaborn as sns \n",
    "\n",
    "from sklearn.linear_model import LinearRegression\n",
    "from sklearn.linear_model import LogisticRegression\n",
    "from sklearn.metrics import mean_squared_error \n",
    "\n",
    "from sklearn.linear_model import Ridge\n",
    "\n",
    "from matplotlib import pyplot \n",
    "\n",
    "from sklearn.compose import make_column_transformer\n",
    "from sklearn.linear_model import LogisticRegression\n",
    "\n",
    "from sklearn.model_selection import KFold\n",
    "from sklearn.model_selection import StratifiedKFold\n",
    "from sklearn.model_selection import train_test_split\n",
    "\n",
    "from sklearn.pipeline import make_pipeline\n",
    "from sklearn.model_selection import GridSearchCV\n",
    "from sklearn.metrics import make_scorer\n",
    "from sklearn.metrics import accuracy_score\n",
    "\n",
    "from sklearn.model_selection import train_test_split\n",
    "from sklearn.preprocessing import StandardScaler\n",
    "from sklearn.linear_model import Ridge\n",
    "from sklearn.metrics import mean_squared_error\n",
    "import matplotlib.pyplot as plt\n",
    "import matplotlib"
   ]
  },
  {
   "cell_type": "markdown",
   "metadata": {},
   "source": [
    "# Step 1: Load Dataset ~ 10 seconds"
   ]
  },
  {
   "cell_type": "code",
   "execution_count": 72,
   "metadata": {},
   "outputs": [],
   "source": [
    "# Load data sets\n",
    "cab_rides = pd.read_csv(\"cab_rides.csv\") \n",
    "\n",
    "# delete GMT timezone, and timestamp\n",
    "del cab_rides['Date_GMT']\n",
    "del cab_rides['Time_GMT']\n",
    "del cab_rides['time_stamp']\n",
    "del cab_rides['id']\n",
    "del cab_rides['product_id']\n",
    "del cab_rides['name']\n",
    "\n",
    "# split Date_EST column into Day of Week, Day, Year\n",
    "cab_rides = pd.concat([cab_rides,cab_rides.Date_EST.str.split(',',expand=True)],1)\n",
    "cab_rides.rename(columns={0:'Day of Week'}, inplace=True)\n",
    "cab_rides.rename(columns={1:'Month_Day'}, inplace=True)\n",
    "cab_rides.rename(columns={2:'Year'}, inplace=True)\n",
    "\n",
    "# delete Date_EST column now\n",
    "del cab_rides['Date_EST']\n",
    "\n",
    "# separate Time_EST column to find time\n",
    "time = cab_rides[\"Time_EST\"].str.split(\" \", n = 1, expand = True)\n",
    "cab_rides[\"Time\"] = time[1]\n",
    "\n",
    "# delete Time_EST column \n",
    "del cab_rides['Time_EST']\n",
    "\n",
    "# Rush Hour\n",
    "\n",
    "# make a new column for hour\n",
    "Hour = cab_rides[\"Time\"].str.split(\":\", n = 1, expand = True)\n",
    "cab_rides['Hour'] = Hour[0]\n",
    "\n",
    "# make a new column for rush hour 8 AM - 9:59 AM and 5 PM - 6:59 PM\n",
    "cab_rides['Hour'] = pd.to_numeric(cab_rides['Hour'], errors='coerce') # convert Hour column to numeric\n",
    "cab_rides['Rush_Hour'] = np.where((cab_rides['Hour']== 8) | (cab_rides['Hour']== 9)|\n",
    "                           (cab_rides['Hour']== 17) | (cab_rides['Hour']== 18),'yes', 'no') \n",
    "\n",
    "# delete Hour column \n",
    "del cab_rides['Hour']\n",
    "\n",
    "# delete Time column \n",
    "del cab_rides['Time']"
   ]
  },
  {
   "cell_type": "code",
   "execution_count": 73,
   "metadata": {},
   "outputs": [
    {
     "data": {
      "text/html": [
       "<div>\n",
       "<style scoped>\n",
       "    .dataframe tbody tr th:only-of-type {\n",
       "        vertical-align: middle;\n",
       "    }\n",
       "\n",
       "    .dataframe tbody tr th {\n",
       "        vertical-align: top;\n",
       "    }\n",
       "\n",
       "    .dataframe thead th {\n",
       "        text-align: right;\n",
       "    }\n",
       "</style>\n",
       "<table border=\"1\" class=\"dataframe\">\n",
       "  <thead>\n",
       "    <tr style=\"text-align: right;\">\n",
       "      <th></th>\n",
       "      <th>distance</th>\n",
       "      <th>cab_type</th>\n",
       "      <th>destination</th>\n",
       "      <th>source</th>\n",
       "      <th>price</th>\n",
       "      <th>surge_multiplier</th>\n",
       "      <th>Day of Week</th>\n",
       "      <th>Month_Day</th>\n",
       "      <th>Year</th>\n",
       "      <th>Rush_Hour</th>\n",
       "    </tr>\n",
       "  </thead>\n",
       "  <tbody>\n",
       "    <tr>\n",
       "      <th>1</th>\n",
       "      <td>1.74</td>\n",
       "      <td>Lyft</td>\n",
       "      <td>North End</td>\n",
       "      <td>Theatre District</td>\n",
       "      <td>30.0</td>\n",
       "      <td>1.0</td>\n",
       "      <td>Sunday</td>\n",
       "      <td>November 25</td>\n",
       "      <td>2018</td>\n",
       "      <td>no</td>\n",
       "    </tr>\n",
       "    <tr>\n",
       "      <th>2</th>\n",
       "      <td>2.01</td>\n",
       "      <td>Lyft</td>\n",
       "      <td>South Station</td>\n",
       "      <td>North Station</td>\n",
       "      <td>16.5</td>\n",
       "      <td>1.0</td>\n",
       "      <td>Sunday</td>\n",
       "      <td>November 25</td>\n",
       "      <td>2018</td>\n",
       "      <td>no</td>\n",
       "    </tr>\n",
       "    <tr>\n",
       "      <th>3</th>\n",
       "      <td>2.30</td>\n",
       "      <td>Uber</td>\n",
       "      <td>Back Bay</td>\n",
       "      <td>Haymarket Square</td>\n",
       "      <td>33.0</td>\n",
       "      <td>1.0</td>\n",
       "      <td>Sunday</td>\n",
       "      <td>November 25</td>\n",
       "      <td>2018</td>\n",
       "      <td>no</td>\n",
       "    </tr>\n",
       "    <tr>\n",
       "      <th>4</th>\n",
       "      <td>4.32</td>\n",
       "      <td>Lyft</td>\n",
       "      <td>Northeastern University</td>\n",
       "      <td>Financial District</td>\n",
       "      <td>22.5</td>\n",
       "      <td>1.0</td>\n",
       "      <td>Sunday</td>\n",
       "      <td>November 25</td>\n",
       "      <td>2018</td>\n",
       "      <td>no</td>\n",
       "    </tr>\n",
       "    <tr>\n",
       "      <th>5</th>\n",
       "      <td>1.16</td>\n",
       "      <td>Uber</td>\n",
       "      <td>Theatre District</td>\n",
       "      <td>Haymarket Square</td>\n",
       "      <td>NaN</td>\n",
       "      <td>1.0</td>\n",
       "      <td>Sunday</td>\n",
       "      <td>November 25</td>\n",
       "      <td>2018</td>\n",
       "      <td>no</td>\n",
       "    </tr>\n",
       "    <tr>\n",
       "      <th>6</th>\n",
       "      <td>2.31</td>\n",
       "      <td>Lyft</td>\n",
       "      <td>Haymarket Square</td>\n",
       "      <td>Back Bay</td>\n",
       "      <td>16.5</td>\n",
       "      <td>1.0</td>\n",
       "      <td>Sunday</td>\n",
       "      <td>November 25</td>\n",
       "      <td>2018</td>\n",
       "      <td>no</td>\n",
       "    </tr>\n",
       "    <tr>\n",
       "      <th>7</th>\n",
       "      <td>3.03</td>\n",
       "      <td>Lyft</td>\n",
       "      <td>Theatre District</td>\n",
       "      <td>Boston University</td>\n",
       "      <td>34.0</td>\n",
       "      <td>1.0</td>\n",
       "      <td>Sunday</td>\n",
       "      <td>November 25</td>\n",
       "      <td>2018</td>\n",
       "      <td>no</td>\n",
       "    </tr>\n",
       "  </tbody>\n",
       "</table>\n",
       "</div>"
      ],
      "text/plain": [
       "   distance cab_type              destination              source  price  \\\n",
       "1      1.74     Lyft                North End    Theatre District   30.0   \n",
       "2      2.01     Lyft            South Station       North Station   16.5   \n",
       "3      2.30     Uber                 Back Bay    Haymarket Square   33.0   \n",
       "4      4.32     Lyft  Northeastern University  Financial District   22.5   \n",
       "5      1.16     Uber         Theatre District    Haymarket Square    NaN   \n",
       "6      2.31     Lyft         Haymarket Square            Back Bay   16.5   \n",
       "7      3.03     Lyft         Theatre District   Boston University   34.0   \n",
       "\n",
       "   surge_multiplier Day of Week     Month_Day   Year Rush_Hour  \n",
       "1               1.0      Sunday   November 25   2018        no  \n",
       "2               1.0      Sunday   November 25   2018        no  \n",
       "3               1.0      Sunday   November 25   2018        no  \n",
       "4               1.0      Sunday   November 25   2018        no  \n",
       "5               1.0      Sunday   November 25   2018        no  \n",
       "6               1.0      Sunday   November 25   2018        no  \n",
       "7               1.0      Sunday   November 25   2018        no  "
      ]
     },
     "execution_count": 73,
     "metadata": {},
     "output_type": "execute_result"
    }
   ],
   "source": [
    "cab_rides[1:8]"
   ]
  },
  {
   "cell_type": "markdown",
   "metadata": {},
   "source": [
    "# Step 2: Delete Rows with Missing Values (All from Label)"
   ]
  },
  {
   "cell_type": "code",
   "execution_count": 74,
   "metadata": {},
   "outputs": [],
   "source": [
    "# algorithm will automatically ignore values\n",
    "# target varirable: price: regression model\n",
    "# when the only missing values are from the label, it's ok to delete, because we're trying to predict them"
   ]
  },
  {
   "cell_type": "code",
   "execution_count": 75,
   "metadata": {},
   "outputs": [
    {
     "data": {
      "text/plain": [
       "distance                0\n",
       "cab_type                0\n",
       "destination             0\n",
       "source                  0\n",
       "price               55095\n",
       "surge_multiplier        0\n",
       "Day of Week             0\n",
       "Month_Day               0\n",
       "Year                    0\n",
       "Rush_Hour               0\n",
       "dtype: int64"
      ]
     },
     "execution_count": 75,
     "metadata": {},
     "output_type": "execute_result"
    }
   ],
   "source": [
    "cab_rides.isnull().sum()"
   ]
  },
  {
   "cell_type": "code",
   "execution_count": 76,
   "metadata": {},
   "outputs": [
    {
     "data": {
      "text/plain": [
       "7.949402009317949"
      ]
     },
     "execution_count": 76,
     "metadata": {},
     "output_type": "execute_result"
    }
   ],
   "source": [
    "price_missing = cab_rides.isnull().sum()[4]\n",
    "total_rows = cab_rides.shape[0]\n",
    "percent_missing = (price_missing/total_rows)*100\n",
    "percent_missing"
   ]
  },
  {
   "cell_type": "code",
   "execution_count": 77,
   "metadata": {},
   "outputs": [],
   "source": [
    "cab_rides = cab_rides.dropna()"
   ]
  },
  {
   "cell_type": "code",
   "execution_count": 78,
   "metadata": {},
   "outputs": [],
   "source": [
    "# reset index\n",
    "cab_rides = cab_rides.reset_index(drop=True)"
   ]
  },
  {
   "cell_type": "markdown",
   "metadata": {},
   "source": [
    "# Step 3: EDA"
   ]
  },
  {
   "cell_type": "code",
   "execution_count": 79,
   "metadata": {},
   "outputs": [
    {
     "data": {
      "image/png": "[encoded data removed]",
      "text/plain": [
       "<Figure size 432x288 with 1 Axes>"
      ]
     },
     "metadata": {
      "needs_background": "light"
     },
     "output_type": "display_data"
    }
   ],
   "source": [
    "# Plot 1: Price vs. Cab_Type\n",
    "\n",
    "cab_rides[['price','cab_type']].boxplot(by='cab_type')\n",
    "plt.ylabel('price')\n",
    "plt.show()"
   ]
  },
  {
   "cell_type": "code",
   "execution_count": 80,
   "metadata": {},
   "outputs": [
    {
     "data": {
      "image/png": "[encoded data removed]",
      "text/plain": [
       "<Figure size 432x288 with 1 Axes>"
      ]
     },
     "metadata": {
      "needs_background": "light"
     },
     "output_type": "display_data"
    }
   ],
   "source": [
    "cab_rides.plot.scatter('distance','price')\n",
    "plt.show()\n",
    "\n",
    "# no linear relationship"
   ]
  },
  {
   "cell_type": "code",
   "execution_count": 81,
   "metadata": {},
   "outputs": [
    {
     "data": {
      "image/png": "[encoded data removed]",
      "text/plain": [
       "<Figure size 432x288 with 1 Axes>"
      ]
     },
     "metadata": {
      "needs_background": "light"
     },
     "output_type": "display_data"
    }
   ],
   "source": [
    "# Plot 1: Cab_Type vs. Day of Week\n",
    "count_matrix = cab_rides.groupby(['surge_multiplier', 'Day of Week']).size().unstack()\n",
    "# print(count_matrix)\n",
    "\n",
    "count_matrix_norm = count_matrix.div(count_matrix.sum(axis=1),axis=0)\n",
    "# print(count_matrix_norm)\n",
    "\n",
    "# stacked bar plot\n",
    "count_matrix_norm.plot(kind='bar', stacked=True)\n",
    "plt.ylabel('fraction of people in group')\n",
    "plt.legend(loc=4)\n",
    "plt.show()"
   ]
  },
  {
   "cell_type": "code",
   "execution_count": 82,
   "metadata": {},
   "outputs": [
    {
     "data": {
      "image/png": "[encoded data removed]",
      "text/plain": [
       "<Figure size 432x288 with 1 Axes>"
      ]
     },
     "metadata": {
      "needs_background": "light"
     },
     "output_type": "display_data"
    }
   ],
   "source": [
    "# Plot 2: Price vs. Destination\n",
    "\n",
    "cab_rides[['price','destination']].boxplot(by='destination')\n",
    "plt.ylabel('price')\n",
    "plt.xticks(plt.xticks()[0], cab_rides.destination, rotation=90)\n",
    "plt.show()"
   ]
  },
  {
   "cell_type": "code",
   "execution_count": 83,
   "metadata": {},
   "outputs": [
    {
     "data": {
      "image/png": "[encoded data removed]",
      "text/plain": [
       "<Figure size 432x288 with 1 Axes>"
      ]
     },
     "metadata": {
      "needs_background": "light"
     },
     "output_type": "display_data"
    }
   ],
   "source": [
    "# Plot 3: Price vs. Source\n",
    "\n",
    "cab_rides[['price','source']].boxplot(by='source')\n",
    "plt.ylabel('price')\n",
    "plt.xticks(plt.xticks()[0], cab_rides.source, rotation=90)\n",
    "plt.show()"
   ]
  },
  {
   "cell_type": "code",
   "execution_count": 84,
   "metadata": {},
   "outputs": [
    {
     "data": {
      "image/png": "[encoded data removed]",
      "text/plain": [
       "<Figure size 432x288 with 1 Axes>"
      ]
     },
     "metadata": {
      "needs_background": "light"
     },
     "output_type": "display_data"
    }
   ],
   "source": [
    "# Plot 4: Price vs. Day of Week\n",
    "\n",
    "cab_rides[['price','Day of Week']].boxplot(by='Day of Week')\n",
    "plt.ylabel('price')\n",
    "plt.show()"
   ]
  },
  {
   "cell_type": "code",
   "execution_count": 85,
   "metadata": {},
   "outputs": [
    {
     "data": {
      "image/png": "[encoded data removed]",
      "text/plain": [
       "<Figure size 432x288 with 1 Axes>"
      ]
     },
     "metadata": {
      "needs_background": "light"
     },
     "output_type": "display_data"
    }
   ],
   "source": [
    "# Plot 5: Price vs. Rush_Hour\n",
    "\n",
    "cab_rides[['price','Rush_Hour']].boxplot(by='Rush_Hour')\n",
    "plt.ylabel('price')\n",
    "plt.show()"
   ]
  },
  {
   "cell_type": "code",
   "execution_count": 86,
   "metadata": {},
   "outputs": [
    {
     "data": {
      "image/png": "[encoded data removed]",
      "text/plain": [
       "<Figure size 648x504 with 1 Axes>"
      ]
     },
     "metadata": {
      "needs_background": "light"
     },
     "output_type": "display_data"
    }
   ],
   "source": [
    "fig, ax = pyplot.subplots(figsize =(9, 7)) \n",
    "sns.violinplot(ax = ax, x = cab_rides[\"cab_type\"],  \n",
    "                  y = cab_rides[\"price\"] ) \n",
    "pyplot.show()"
   ]
  },
  {
   "cell_type": "markdown",
   "metadata": {},
   "source": [
    "# Step 4: Split Data into Train, Test, and CV Sets"
   ]
  },
  {
   "cell_type": "code",
   "execution_count": 87,
   "metadata": {},
   "outputs": [
    {
     "name": "stderr",
     "output_type": "stream",
     "text": [
      "/opt/conda/lib/python3.7/site-packages/sklearn/preprocessing/label.py:235: DataConversionWarning: A column-vector y was passed when a 1d array was expected. Please change the shape of y to (n_samples, ), for example using ravel().\n",
      "  y = column_or_1d(y, warn=True)\n"
     ]
    }
   ],
   "source": [
    "# take random sample of rows and remove them from the original data by dropping index values\n",
    "\n",
    "cab_copy = cab_rides.copy() # 100%\n",
    "\n",
    "le = LabelEncoder()\n",
    "\n",
    "train_set = cab_copy.sample(frac=0.60, random_state=0) # 60 % ## fit transform\n",
    "le_array_train = le.fit_transform(train_set[['price']]) # array\n",
    "le_df_train = pd.DataFrame(le_array_train, columns = ['price']) # data frame\n",
    "\n",
    "leftover = cab_copy.drop(train_set.index) # 40 %\n",
    "\n",
    "test_set = leftover.sample(frac=0.50, random_state=0) # 20 %  # apply .transform\n",
    "le_array_test = le.fit_transform(test_set[['price']]) # array\n",
    "le_df_test = pd.DataFrame(le_array_test, columns = ['price']) # data frame\n",
    "\n",
    "cv_set = leftover.drop(test_set.index) # 20 %  # apply .transform\n",
    "le_array_cv = le.fit_transform(cv_set[['price']]) # array\n",
    "le_df_cv = pd.DataFrame(le_array_cv, columns = ['price']) # data frame"
   ]
  },
  {
   "cell_type": "markdown",
   "metadata": {},
   "source": [
    "# Step 5: Preprocess Train, Test and CV Data Sets"
   ]
  },
  {
   "cell_type": "code",
   "execution_count": 88,
   "metadata": {},
   "outputs": [],
   "source": [
    "# Train"
   ]
  },
  {
   "cell_type": "code",
   "execution_count": 89,
   "metadata": {},
   "outputs": [],
   "source": [
    "# One-Hot Encoder\n",
    "oh_enc = OneHotEncoder(sparse=False, handle_unknown = 'ignore')\n",
    "oh_array_train = oh_enc.fit_transform(train_set[['cab_type', 'destination', 'source', \n",
    "                                           'Day of Week', 'Rush_Hour']]) # fit, transform\n",
    "col_names = oh_enc.get_feature_names() # return column names\n",
    "oh_df_train = pd.DataFrame(oh_array_train, columns = col_names) \n",
    "\n",
    "\n",
    "# Ordinal Encoder\n",
    "od_enc = OrdinalEncoder()\n",
    "od_array_train = od_enc.fit_transform(train_set[['Month_Day']])\n",
    "od_df_train = pd.DataFrame(od_array_train, columns = ['Month_Day']) \n",
    "\n",
    "# MinMaxScaler\n",
    "mm_scaler = MinMaxScaler()\n",
    "mm_array_train = mm_scaler.fit_transform(train_set[['Year']]) # array\n",
    "mm_df_train = pd.DataFrame(mm_array_train, columns = ['Year']) \n",
    "\n",
    "# StandardScaler\n",
    "sd_scaler = StandardScaler()\n",
    "sd_array_train = sd_scaler.fit_transform(train_set[['distance','surge_multiplier']]) # array\n",
    "sd_df_train = pd.DataFrame(sd_array_train, columns = ['distance',  'surge_multiplier']) \n",
    "\n",
    "# Save the preprocessed data into a pandas dataframe (1 point)\n",
    "df_merge_train = pd.concat([oh_df_train, od_df_train, mm_df_train, \n",
    "                      sd_df_train, le_df_train], axis = 1) # merge data frames\n",
    "\n",
    "Y_train = df_merge_train['price'] # y-value of train data set\n",
    "X_train = df_merge_train.drop('price', 1) "
   ]
  },
  {
   "cell_type": "code",
   "execution_count": 90,
   "metadata": {},
   "outputs": [],
   "source": [
    "# Test"
   ]
  },
  {
   "cell_type": "code",
   "execution_count": 91,
   "metadata": {},
   "outputs": [],
   "source": [
    "# One-Hot Encoder\n",
    "\n",
    "oh_array_test = oh_enc.transform(test_set[['cab_type', 'destination', 'source', \n",
    "                                           'Day of Week', 'Rush_Hour']]) # fit, transform\n",
    "col_names = oh_enc.get_feature_names() # return column names\n",
    "oh_df_test = pd.DataFrame(oh_array_test, columns = col_names) \n",
    "\n",
    "\n",
    "# Ordinal Encoder\n",
    "od_array_test = od_enc.transform(test_set[['Month_Day']])\n",
    "od_df_test = pd.DataFrame(od_array_test, columns = ['Month_Day']) \n",
    "\n",
    "# MinMaxScaler\n",
    "mm_array_test = mm_scaler.transform(test_set[['Year']]) # array\n",
    "mm_df_test = pd.DataFrame(mm_array_test, columns = ['Year']) \n",
    "\n",
    "# StandardScaler\n",
    "sd_array_test = sd_scaler.transform(test_set[['distance','surge_multiplier']]) # array\n",
    "sd_df_test = pd.DataFrame(sd_array_test, columns = ['distance',  'surge_multiplier']) \n",
    "\n",
    "\n",
    "# Save the preprocessed data into a pandas dataframe (1 point)\n",
    "df_merge_test = pd.concat([oh_df_test, od_df_test, mm_df_test, \n",
    "                      sd_df_test, le_df_test], axis = 1) # merge data frames\n",
    "\n",
    "\n",
    "Y_test = df_merge_test['price'] # y-value of test data set\n",
    "X_test = df_merge_test.drop('price', 1)"
   ]
  },
  {
   "cell_type": "code",
   "execution_count": 92,
   "metadata": {},
   "outputs": [],
   "source": [
    "# CV"
   ]
  },
  {
   "cell_type": "code",
   "execution_count": 93,
   "metadata": {},
   "outputs": [],
   "source": [
    "# One-Hot Encoder\n",
    "oh_array_cv = oh_enc.transform(cv_set[['cab_type', 'destination', 'source', \n",
    "                                           'Day of Week', 'Rush_Hour']]) # fit, transform\n",
    "col_names = oh_enc.get_feature_names() # return column names\n",
    "oh_df_cv = pd.DataFrame(oh_array_cv, columns = col_names) \n",
    "\n",
    "# Ordinal Encoder\n",
    "od_array_cv = od_enc.transform(cv_set[['Month_Day']])\n",
    "od_df_cv = pd.DataFrame(od_array_cv, columns = ['Month_Day']) \n",
    "\n",
    "# MinMaxScaler\n",
    "mm_array_cv = mm_scaler.transform(cv_set[['Year']]) # array\n",
    "mm_df_cv = pd.DataFrame(mm_array_cv, columns = ['Year']) \n",
    "\n",
    "# StandardScaler\n",
    "sd_array_cv = sd_scaler.transform(cv_set[['distance','surge_multiplier']]) # array\n",
    "sd_df_cv = pd.DataFrame(sd_array_cv, columns = ['distance',  'surge_multiplier']) \n",
    "\n",
    "# Save the preprocessed data into a pandas dataframe (1 point)\n",
    "df_merge_cv = pd.concat([oh_df_cv, od_df_cv, mm_df_cv, \n",
    "                      sd_df_cv, le_df_cv], axis = 1) # merge data frames\n",
    "\n",
    "\n",
    "Y_cv = df_merge_cv['price'] # y-value of test data set\n",
    "X_cv = df_merge_cv.drop('price', 1)"
   ]
  },
  {
   "cell_type": "code",
   "execution_count": 94,
   "metadata": {},
   "outputs": [],
   "source": [
    "# Use df_merge_test data set"
   ]
  },
  {
   "cell_type": "code",
   "execution_count": 95,
   "metadata": {},
   "outputs": [],
   "source": [
    "# correlation between price and all the other features\n",
    "\n",
    "# first make a data frame without the target variable\n",
    "df_no_target = df_merge_cv.drop(\"price\", axis=1)\n",
    "\n",
    "# find the correlation between sale price and each column of the \"df_no_target\" data frame\n",
    "c1 = df_no_target.apply(lambda x: x.corr(df_merge_cv.price))\n",
    "\n",
    "# reference: StackOverFlow \n",
    "# https://stackoverflow.com/questions/52497451/compute-correlation-between-features-and-target-variable"
   ]
  },
  {
   "cell_type": "code",
   "execution_count": 96,
   "metadata": {},
   "outputs": [
    {
     "data": {
      "text/plain": [
       "x2_Haymarket Square   -0.093441\n",
       "x0_Uber               -0.083960\n",
       "x1_Haymarket Square   -0.074558\n",
       "dtype: float64"
      ]
     },
     "execution_count": 96,
     "metadata": {},
     "output_type": "execute_result"
    }
   ],
   "source": [
    "# top features that are most negatively correlated\n",
    "c1.nsmallest(3)"
   ]
  },
  {
   "cell_type": "code",
   "execution_count": 97,
   "metadata": {},
   "outputs": [
    {
     "data": {
      "text/plain": [
       "distance            0.341188\n",
       "surge_multiplier    0.225228\n",
       "x0_Lyft             0.083960\n",
       "dtype: float64"
      ]
     },
     "execution_count": 97,
     "metadata": {},
     "output_type": "execute_result"
    }
   ],
   "source": [
    "c1.nlargest(3)"
   ]
  },
  {
   "cell_type": "markdown",
   "metadata": {},
   "source": [
    "# Step 6: Methods"
   ]
  },
  {
   "cell_type": "code",
   "execution_count": 98,
   "metadata": {},
   "outputs": [],
   "source": [
    "# Linear Regression, Feature Engineering, Random Forest Regression, XGBoost"
   ]
  },
  {
   "cell_type": "markdown",
   "metadata": {},
   "source": [
    "## Baseline"
   ]
  },
  {
   "cell_type": "code",
   "execution_count": 99,
   "metadata": {},
   "outputs": [
    {
     "data": {
      "text/plain": [
       "29.770929448830415"
      ]
     },
     "execution_count": 99,
     "metadata": {},
     "output_type": "execute_result"
    }
   ],
   "source": [
    "Y_value = np.mean(Y_train)\n",
    "Y_value"
   ]
  },
  {
   "cell_type": "code",
   "execution_count": 100,
   "metadata": {},
   "outputs": [
    {
     "data": {
      "text/plain": [
       "(127595,)"
      ]
     },
     "execution_count": 100,
     "metadata": {},
     "output_type": "execute_result"
    }
   ],
   "source": [
    "Y_test.shape"
   ]
  },
  {
   "cell_type": "code",
   "execution_count": 101,
   "metadata": {},
   "outputs": [
    {
     "data": {
      "text/plain": [
       "(127595,)"
      ]
     },
     "execution_count": 101,
     "metadata": {},
     "output_type": "execute_result"
    }
   ],
   "source": [
    "# turn into an array with shape of Y-test\n",
    "Y_pred_base = np.full((127595,), Y_value)\n",
    "Y_pred_base.shape"
   ]
  },
  {
   "cell_type": "markdown",
   "metadata": {},
   "source": [
    "# Linear Regression"
   ]
  },
  {
   "cell_type": "code",
   "execution_count": 102,
   "metadata": {},
   "outputs": [],
   "source": [
    "# focus on highly correlated features\n",
    "\n",
    "x_train_copy = X_train[['distance','surge_multiplier']]\n",
    "# x_train_copy['ratio'] = (x_train_copy['distance'] / x_train_copy['surge_multiplier']).tolist()\n",
    "\n",
    "x_test_copy = X_test[['distance','surge_multiplier']]\n",
    "# x_test_copy['ratio'] = (x_test_copy['distance'] / x_test_copy['surge_multiplier']).tolist()\n",
    "\n",
    "# Linear Regression\n",
    "\n",
    "C = np.logspace(0, 4, 5)\n",
    "lin_regressor = LinearRegression()  # create object for the class\n",
    "lin_regressor.fit(x_train_copy, Y_train)  # perform linear regression\n",
    "predictions = lin_regressor.predict(x_test_copy)  # make predictions\n",
    "\n",
    "y_train_pred = lin_regressor.predict(x_train_copy) # predict y-value from X-train\n",
    "y_test_pred = lin_regressor.predict(x_test_copy) # predict y-value from X-test\n",
    "\n",
    "# Mean Squared Error\n",
    "mse_linreg = mean_squared_error(Y_test,y_test_pred) "
   ]
  },
  {
   "cell_type": "code",
   "execution_count": 103,
   "metadata": {},
   "outputs": [
    {
     "data": {
      "text/plain": [
       "303.9877218642649"
      ]
     },
     "execution_count": 103,
     "metadata": {},
     "output_type": "execute_result"
    }
   ],
   "source": [
    "mse_linreg"
   ]
  },
  {
   "cell_type": "code",
   "execution_count": 104,
   "metadata": {},
   "outputs": [
    {
     "data": {
      "text/plain": [
       "0.16052456400032566"
      ]
     },
     "execution_count": 104,
     "metadata": {},
     "output_type": "execute_result"
    }
   ],
   "source": [
    "# regular\n",
    "sklearn.metrics.r2_score(Y_test,y_test_pred)"
   ]
  },
  {
   "cell_type": "code",
   "execution_count": 105,
   "metadata": {},
   "outputs": [
    {
     "data": {
      "text/plain": [
       "-2.1904924195847997e-05"
      ]
     },
     "execution_count": 105,
     "metadata": {},
     "output_type": "execute_result"
    }
   ],
   "source": [
    "# baseline\n",
    "sklearn.metrics.r2_score(y_test_pred,Y_pred_base)"
   ]
  },
  {
   "cell_type": "markdown",
   "metadata": {},
   "source": [
    "# Feature Engineering"
   ]
  },
  {
   "cell_type": "code",
   "execution_count": 106,
   "metadata": {},
   "outputs": [
    {
     "name": "stderr",
     "output_type": "stream",
     "text": [
      "/opt/conda/lib/python3.7/site-packages/ipykernel_launcher.py:4: SettingWithCopyWarning: \n",
      "A value is trying to be set on a copy of a slice from a DataFrame.\n",
      "Try using .loc[row_indexer,col_indexer] = value instead\n",
      "\n",
      "See the caveats in the documentation: http://pandas.pydata.org/pandas-docs/stable/user_guide/indexing.html#returning-a-view-versus-a-copy\n",
      "  after removing the cwd from sys.path.\n",
      "/opt/conda/lib/python3.7/site-packages/ipykernel_launcher.py:7: SettingWithCopyWarning: \n",
      "A value is trying to be set on a copy of a slice from a DataFrame.\n",
      "Try using .loc[row_indexer,col_indexer] = value instead\n",
      "\n",
      "See the caveats in the documentation: http://pandas.pydata.org/pandas-docs/stable/user_guide/indexing.html#returning-a-view-versus-a-copy\n",
      "  import sys\n"
     ]
    }
   ],
   "source": [
    "# feature-engineering - gain more information \n",
    "\n",
    "x_train_copy = X_train[['distance','surge_multiplier']]\n",
    "x_train_copy['ratio'] = (x_train_copy['distance'] / x_train_copy['surge_multiplier']).tolist()\n",
    "\n",
    "x_test_copy = X_test[['distance','surge_multiplier']]\n",
    "x_test_copy['ratio'] = (x_test_copy['distance'] / x_test_copy['surge_multiplier']).tolist()\n",
    "\n",
    "# Linear Regression\n",
    "\n",
    "lin_regressor = LinearRegression()  # create object for the class\n",
    "lin_regressor.fit(x_train_copy, Y_train)  # perform linear regression\n",
    "predictions = lin_regressor.predict(x_test_copy)  # make predictions\n",
    "\n",
    "y_train_pred = lin_regressor.predict(x_train_copy) # predict y-value from X-train\n",
    "y_test_pred = lin_regressor.predict(x_test_copy) # predict y-value from X-test\n",
    "\n",
    "# Mean Squared Error\n",
    "mse_linreg = mean_squared_error(Y_test,y_test_pred) "
   ]
  },
  {
   "cell_type": "code",
   "execution_count": 107,
   "metadata": {},
   "outputs": [
    {
     "data": {
      "text/plain": [
       "303.3889473155828"
      ]
     },
     "execution_count": 107,
     "metadata": {},
     "output_type": "execute_result"
    }
   ],
   "source": [
    "mse_linreg"
   ]
  },
  {
   "cell_type": "code",
   "execution_count": 108,
   "metadata": {},
   "outputs": [
    {
     "data": {
      "text/plain": [
       "0.16217810619682538"
      ]
     },
     "execution_count": 108,
     "metadata": {},
     "output_type": "execute_result"
    }
   ],
   "source": [
    "sklearn.metrics.r2_score(Y_test,y_test_pred)"
   ]
  },
  {
   "cell_type": "code",
   "execution_count": 109,
   "metadata": {},
   "outputs": [
    {
     "data": {
      "text/plain": [
       "-2.187230950512209e-05"
      ]
     },
     "execution_count": 109,
     "metadata": {},
     "output_type": "execute_result"
    }
   ],
   "source": [
    "# baseline\n",
    "sklearn.metrics.r2_score(y_test_pred,Y_pred_base)"
   ]
  },
  {
   "cell_type": "markdown",
   "metadata": {},
   "source": [
    "# Random Forest Regression"
   ]
  },
  {
   "cell_type": "code",
   "execution_count": 110,
   "metadata": {},
   "outputs": [],
   "source": [
    "# create regressor object \n",
    "\n",
    "regressor = RandomForestRegressor(n_estimators = 1, random_state = 0, max_depth = 6, n_jobs = -1) \n",
    "  \n",
    "# fit the regressor with x and y data \n",
    "regressor.fit(X_train, Y_train)\n",
    "predictions = regressor.predict(X_test)\n",
    "\n",
    "y_train_pred = regressor.predict(X_train) # predict y-value from X-train\n",
    "y_test_pred = regressor.predict(X_test) # predict y-value from X-test\n",
    "\n",
    "# Step 3: Mean Squared Error\n",
    "mse_rfr = mean_squared_error(Y_test,y_test_pred) "
   ]
  },
  {
   "cell_type": "code",
   "execution_count": 111,
   "metadata": {},
   "outputs": [
    {
     "data": {
      "text/plain": [
       "301.2410069211505"
      ]
     },
     "execution_count": 111,
     "metadata": {},
     "output_type": "execute_result"
    }
   ],
   "source": [
    "mse_rfr"
   ]
  },
  {
   "cell_type": "code",
   "execution_count": 112,
   "metadata": {},
   "outputs": [
    {
     "data": {
      "text/plain": [
       "0.16810973786951033"
      ]
     },
     "execution_count": 112,
     "metadata": {},
     "output_type": "execute_result"
    }
   ],
   "source": [
    "sklearn.metrics.r2_score(Y_test,y_test_pred)"
   ]
  },
  {
   "cell_type": "code",
   "execution_count": 113,
   "metadata": {},
   "outputs": [
    {
     "data": {
      "text/plain": [
       "-5.4334903309527505e-05"
      ]
     },
     "execution_count": 113,
     "metadata": {},
     "output_type": "execute_result"
    }
   ],
   "source": [
    "# baseline\n",
    "sklearn.metrics.r2_score(y_test_pred,Y_pred_base)"
   ]
  },
  {
   "cell_type": "markdown",
   "metadata": {},
   "source": [
    "## Tune parameters"
   ]
  },
  {
   "cell_type": "code",
   "execution_count": 114,
   "metadata": {},
   "outputs": [],
   "source": [
    "# create regressor object \n",
    "\n",
    "regressor = RandomForestRegressor(n_estimators = 20, random_state = 0, max_depth = 20, n_jobs = -1) \n",
    "  \n",
    "# fit the regressor with x and y data \n",
    "regressor.fit(X_train, Y_train)\n",
    "predictions = regressor.predict(X_test)\n",
    "\n",
    "y_train_pred = regressor.predict(X_train) # predict y-value from X-train\n",
    "y_test_pred = regressor.predict(X_test) # predict y-value from X-test\n",
    "\n",
    "# Step 3: Mean Squared Error\n",
    "mse_rfr = mean_squared_error(Y_test,y_test_pred)"
   ]
  },
  {
   "cell_type": "code",
   "execution_count": 115,
   "metadata": {},
   "outputs": [
    {
     "data": {
      "text/plain": [
       "328.6055353552014"
      ]
     },
     "execution_count": 115,
     "metadata": {},
     "output_type": "execute_result"
    }
   ],
   "source": [
    "mse_rfr"
   ]
  },
  {
   "cell_type": "code",
   "execution_count": 116,
   "metadata": {},
   "outputs": [
    {
     "data": {
      "text/plain": [
       "0.09254139156518926"
      ]
     },
     "execution_count": 116,
     "metadata": {},
     "output_type": "execute_result"
    }
   ],
   "source": [
    "sklearn.metrics.r2_score(Y_test,y_test_pred)"
   ]
  },
  {
   "cell_type": "code",
   "execution_count": 117,
   "metadata": {},
   "outputs": [
    {
     "data": {
      "text/plain": [
       "-2.3141875036269965e-05"
      ]
     },
     "execution_count": 117,
     "metadata": {},
     "output_type": "execute_result"
    }
   ],
   "source": [
    "# baseline\n",
    "sklearn.metrics.r2_score(y_test_pred,Y_pred_base)"
   ]
  },
  {
   "cell_type": "code",
   "execution_count": 118,
   "metadata": {},
   "outputs": [],
   "source": [
    "# create regressor object \n",
    "\n",
    "regressor = RandomForestRegressor(n_estimators = 5, random_state = 0, max_depth = 10, n_jobs = -1) \n",
    "  \n",
    "# fit the regressor with x and y data \n",
    "regressor.fit(X_train, Y_train)\n",
    "predictions = regressor.predict(X_test)\n",
    "\n",
    "y_train_pred = regressor.predict(X_train) # predict y-value from X-train\n",
    "y_test_pred = regressor.predict(X_test) # predict y-value from X-test\n",
    "\n",
    "# Step 3: Mean Squared Error\n",
    "mse_rfr = mean_squared_error(Y_test,y_test_pred) "
   ]
  },
  {
   "cell_type": "code",
   "execution_count": 119,
   "metadata": {},
   "outputs": [
    {
     "data": {
      "text/plain": [
       "302.3099497822961"
      ]
     },
     "execution_count": 119,
     "metadata": {},
     "output_type": "execute_result"
    }
   ],
   "source": [
    "mse_rfr"
   ]
  },
  {
   "cell_type": "code",
   "execution_count": 120,
   "metadata": {},
   "outputs": [
    {
     "data": {
      "text/plain": [
       "0.16515780524237722"
      ]
     },
     "execution_count": 120,
     "metadata": {},
     "output_type": "execute_result"
    }
   ],
   "source": [
    "sklearn.metrics.r2_score(Y_test,y_test_pred)"
   ]
  },
  {
   "cell_type": "code",
   "execution_count": 121,
   "metadata": {},
   "outputs": [
    {
     "data": {
      "text/plain": [
       "-3.1539991274476264e-05"
      ]
     },
     "execution_count": 121,
     "metadata": {},
     "output_type": "execute_result"
    }
   ],
   "source": [
    "# baseline\n",
    "sklearn.metrics.r2_score(y_test_pred,Y_pred_base)"
   ]
  },
  {
   "cell_type": "code",
   "execution_count": 122,
   "metadata": {},
   "outputs": [],
   "source": [
    "# create regressor object \n",
    "\n",
    "regressor = RandomForestRegressor(n_estimators = 10, random_state = 0, max_depth = 15, n_jobs = -1) \n",
    "  \n",
    "# fit the regressor with x and y data \n",
    "regressor.fit(X_train, Y_train)\n",
    "predictions = regressor.predict(X_test)\n",
    "\n",
    "y_train_pred = regressor.predict(X_train) # predict y-value from X-train\n",
    "y_test_pred = regressor.predict(X_test) # predict y-value from X-test\n",
    "\n",
    "# Step 3: Mean Squared Error\n",
    "mse_rfr = mean_squared_error(Y_test,y_test_pred) "
   ]
  },
  {
   "cell_type": "code",
   "execution_count": 123,
   "metadata": {},
   "outputs": [
    {
     "data": {
      "text/plain": [
       "312.01725037124663"
      ]
     },
     "execution_count": 123,
     "metadata": {},
     "output_type": "execute_result"
    }
   ],
   "source": [
    "mse_rfr"
   ]
  },
  {
   "cell_type": "code",
   "execution_count": 124,
   "metadata": {},
   "outputs": [
    {
     "data": {
      "text/plain": [
       "0.13835066861095824"
      ]
     },
     "execution_count": 124,
     "metadata": {},
     "output_type": "execute_result"
    }
   ],
   "source": [
    "sklearn.metrics.r2_score(Y_test,y_test_pred)"
   ]
  },
  {
   "cell_type": "code",
   "execution_count": 125,
   "metadata": {},
   "outputs": [
    {
     "data": {
      "text/plain": [
       "-1.9498926715932896e-05"
      ]
     },
     "execution_count": 125,
     "metadata": {},
     "output_type": "execute_result"
    }
   ],
   "source": [
    "# baseline\n",
    "sklearn.metrics.r2_score(y_test_pred,Y_pred_base)"
   ]
  },
  {
   "cell_type": "markdown",
   "metadata": {},
   "source": [
    "# XGBoost"
   ]
  },
  {
   "cell_type": "code",
   "execution_count": 126,
   "metadata": {},
   "outputs": [],
   "source": [
    "import xgboost as xgb\n",
    "# Reference: https://www.datacamp.com/community/tutorials/xgboost-in-python"
   ]
  },
  {
   "cell_type": "code",
   "execution_count": 127,
   "metadata": {},
   "outputs": [],
   "source": [
    "xg_reg = xgb.XGBRegressor(objective ='reg:linear', colsample_bytree = 0.3, learning_rate = 0.1,\n",
    "                max_depth = 5, alpha = 10, n_estimators = 10)"
   ]
  },
  {
   "cell_type": "code",
   "execution_count": 149,
   "metadata": {},
   "outputs": [
    {
     "name": "stderr",
     "output_type": "stream",
     "text": [
      "/opt/conda/lib/python3.7/site-packages/xgboost/core.py:587: FutureWarning: Series.base is deprecated and will be removed in a future version\n",
      "  if getattr(data, 'base', None) is not None and \\\n",
      "/opt/conda/lib/python3.7/site-packages/xgboost/core.py:588: FutureWarning: Series.base is deprecated and will be removed in a future version\n",
      "  data.base is not None and isinstance(data, np.ndarray) \\\n"
     ]
    },
    {
     "name": "stdout",
     "output_type": "stream",
     "text": [
      "[02:28:57] WARNING: /home/conda/feedstock_root/build_artifacts/xgboost_1566327313563/work/src/objective/regression_obj.cu:152: reg:linear is now deprecated in favor of reg:squarederror.\n"
     ]
    }
   ],
   "source": [
    "xg_reg.fit(X_train,Y_train)\n",
    "\n",
    "preds = xg_reg.predict(X_test)\n",
    "\n",
    "mse = (mean_squared_error(Y_test, preds))"
   ]
  },
  {
   "cell_type": "code",
   "execution_count": 150,
   "metadata": {},
   "outputs": [
    {
     "name": "stdout",
     "output_type": "stream",
     "text": [
      "MSE: 398.213144\n"
     ]
    }
   ],
   "source": [
    "print(\"MSE: %f\" % (mse))"
   ]
  },
  {
   "cell_type": "code",
   "execution_count": 151,
   "metadata": {},
   "outputs": [
    {
     "data": {
      "text/plain": [
       "-0.09968307510059393"
      ]
     },
     "execution_count": 151,
     "metadata": {},
     "output_type": "execute_result"
    }
   ],
   "source": [
    "sklearn.metrics.r2_score(Y_test,preds)"
   ]
  },
  {
   "cell_type": "code",
   "execution_count": 152,
   "metadata": {},
   "outputs": [
    {
     "data": {
      "text/plain": [
       "-10.244117554139136"
      ]
     },
     "execution_count": 152,
     "metadata": {},
     "output_type": "execute_result"
    }
   ],
   "source": [
    "# baseline\n",
    "sklearn.metrics.r2_score(preds,Y_pred_base)"
   ]
  },
  {
   "cell_type": "markdown",
   "metadata": {},
   "source": [
    "# SVM (Can't do - takes too long - 693,000 rows of data)"
   ]
  },
  {
   "cell_type": "markdown",
   "metadata": {},
   "source": [
    "from sklearn.svm import SVC\n",
    "from sklearn import svm"
   ]
  },
  {
   "cell_type": "raw",
   "metadata": {},
   "source": [
    "svm = svm.SVC(gamma='scale')\n",
    "svm.fit(X_train, Y_train)\n",
    "predictions = svm.predict(X_test)\n",
    "\n",
    "y_pred = svm.predict(X_train) # predict y-value from X-train\n",
    "y_test_pred = svm.predict(X_test) # predict y-value from X-test\n",
    "\n",
    "# score = metrics.accuracy_score(Y_test, y_test_pred)\n",
    "score = mean_squared_error(Y_test,y_test_pred) \n",
    "print('SVM rbf Method: accuracy of test set:', score)"
   ]
  },
  {
   "cell_type": "markdown",
   "metadata": {},
   "source": [
    "# Can't do K Fold Validation - do simple pipeline"
   ]
  },
  {
   "cell_type": "code",
   "execution_count": 132,
   "metadata": {},
   "outputs": [
    {
     "name": "stdout",
     "output_type": "stream",
     "text": [
      "x0_Lyft\n",
      "x0_Uber\n",
      "x1_Back Bay\n",
      "x1_Beacon Hill\n",
      "x1_Boston University\n",
      "x1_Fenway\n",
      "x1_Financial District\n",
      "x1_Haymarket Square\n",
      "x1_North End\n",
      "x1_North Station\n",
      "x1_Northeastern University\n",
      "x1_South Station\n",
      "x1_Theatre District\n",
      "x1_West End\n",
      "x2_Back Bay\n",
      "x2_Beacon Hill\n",
      "x2_Boston University\n",
      "x2_Fenway\n",
      "x2_Financial District\n",
      "x2_Haymarket Square\n",
      "x2_North End\n",
      "x2_North Station\n",
      "x2_Northeastern University\n",
      "x2_South Station\n",
      "x2_Theatre District\n",
      "x2_West End\n",
      "x3_Friday\n",
      "x3_Monday\n",
      "x3_Saturday\n",
      "x3_Sunday\n",
      "x3_Thursday\n",
      "x3_Tuesday\n",
      "x3_Wednesday\n",
      "x4_no\n",
      "x4_yes\n",
      "Month_Day\n",
      "Year\n",
      "distance\n",
      "surge_multiplier\n"
     ]
    }
   ],
   "source": [
    "feature_names = []\n",
    "for col in X_test.columns: \n",
    "    print(col)\n",
    "    feature_names.append(col)"
   ]
  },
  {
   "cell_type": "code",
   "execution_count": 133,
   "metadata": {},
   "outputs": [
    {
     "name": "stdout",
     "output_type": "stream",
     "text": [
      "balance: 0.08170382851992633\n"
     ]
    }
   ],
   "source": [
    "#  Read in the data\n",
    "\n",
    "label = 'price'\n",
    "\n",
    "# balance of dataset\n",
    "y = Y_test\n",
    "X = X_test\n",
    "\n",
    "classes, counts = np.unique(y,return_counts=True)\n",
    "print('balance:',np.max(counts/len(y)))"
   ]
  },
  {
   "cell_type": "code",
   "execution_count": 134,
   "metadata": {},
   "outputs": [],
   "source": [
    "def ML_pipeline_basic(cab_rides,random_state):\n",
    "    # split the data\n",
    "    \n",
    "    cab_copy = cab_rides.copy() # 100%\n",
    "\n",
    "    le = LabelEncoder()\n",
    "\n",
    "    train_set = cab_copy.sample(frac=0.60, random_state=0) # 60 % ## fit transform\n",
    "    le_array_train = le.fit_transform(train_set[['price']]) # array\n",
    "    le_df_train = pd.DataFrame(le_array_train, columns = ['price']) # data frame\n",
    "\n",
    "    leftover = cab_copy.drop(train_set.index) # 40 %\n",
    "\n",
    "    test_set = leftover.sample(frac=0.50, random_state=0) # 20 %  # apply .transform\n",
    "    le_array_test = le.fit_transform(test_set[['price']]) # array\n",
    "    le_df_test = pd.DataFrame(le_array_test, columns = ['price']) # data frame\n",
    "\n",
    "    cv_set = leftover.drop(test_set.index) # 20 %  # apply .transform\n",
    "    le_array_cv = le.fit_transform(cv_set[['price']]) # array\n",
    "    le_df_cv = pd.DataFrame(le_array_cv, columns = ['price']) # data frame\n",
    "    \n",
    "    # Train\n",
    "    \n",
    "    # One-Hot Encoder\n",
    "    oh_enc = OneHotEncoder(sparse=False, handle_unknown = 'ignore')\n",
    "    oh_array_train = oh_enc.fit_transform(train_set[['cab_type', 'destination', 'source', \n",
    "                                               'Day of Week', 'Rush_Hour']]) # fit, transform\n",
    "    col_names = oh_enc.get_feature_names() # return column names\n",
    "    oh_df_train = pd.DataFrame(oh_array_train, columns = col_names) \n",
    "\n",
    "\n",
    "    # Ordinal Encoder\n",
    "    od_enc = OrdinalEncoder()\n",
    "    od_array_train = od_enc.fit_transform(train_set[['Month_Day']])\n",
    "    od_df_train = pd.DataFrame(od_array_train, columns = ['Month_Day']) \n",
    "\n",
    "    # MinMaxScaler\n",
    "    mm_scaler = MinMaxScaler()\n",
    "    mm_array_train = mm_scaler.fit_transform(train_set[['Year']]) # array\n",
    "    mm_df_train = pd.DataFrame(mm_array_train, columns = ['Year']) \n",
    "\n",
    "    # StandardScaler\n",
    "    sd_scaler = StandardScaler()\n",
    "    sd_array_train = sd_scaler.fit_transform(train_set[['distance','surge_multiplier']]) # array\n",
    "    sd_df_train = pd.DataFrame(sd_array_train, columns = ['distance',  'surge_multiplier']) \n",
    "\n",
    "    # Save the preprocessed data into a pandas dataframe (1 point)\n",
    "    df_merge_train = pd.concat([oh_df_train, od_df_train, mm_df_train, \n",
    "                          sd_df_train, le_df_train], axis = 1) # merge data frames\n",
    "\n",
    "    Y_train = df_merge_train['price'] # y-value of train data set\n",
    "    X_train = df_merge_train.drop('price', 1) \n",
    "\n",
    "    # Test\n",
    "    \n",
    "    # One-Hot Encoder\n",
    "\n",
    "    oh_array_test = oh_enc.transform(test_set[['cab_type', 'destination', 'source', \n",
    "                                               'Day of Week', 'Rush_Hour']]) # fit, transform\n",
    "    col_names = oh_enc.get_feature_names() # return column names\n",
    "    oh_df_test = pd.DataFrame(oh_array_test, columns = col_names) \n",
    "\n",
    "\n",
    "    # Ordinal Encoder\n",
    "    od_array_test = od_enc.transform(test_set[['Month_Day']])\n",
    "    od_df_test = pd.DataFrame(od_array_test, columns = ['Month_Day']) \n",
    "\n",
    "    # MinMaxScaler\n",
    "    mm_array_test = mm_scaler.transform(test_set[['Year']]) # array\n",
    "    mm_df_test = pd.DataFrame(mm_array_test, columns = ['Year']) \n",
    "\n",
    "    # StandardScaler\n",
    "    sd_array_test = sd_scaler.transform(test_set[['distance','surge_multiplier']]) # array\n",
    "    sd_df_test = pd.DataFrame(sd_array_test, columns = ['distance',  'surge_multiplier']) \n",
    "\n",
    "\n",
    "    # Save the preprocessed data into a pandas dataframe (1 point)\n",
    "    df_merge_test = pd.concat([oh_df_test, od_df_test, mm_df_test, \n",
    "                          sd_df_test, le_df_test], axis = 1) # merge data frames\n",
    "\n",
    "\n",
    "    Y_test = df_merge_test['price'] # y-value of test data set\n",
    "    X_test = df_merge_test.drop('price', 1)\n",
    "    \n",
    "    \n",
    "    # CV\n",
    "    # One-Hot Encoder\n",
    "    oh_array_cv = oh_enc.transform(cv_set[['cab_type', 'destination', 'source', \n",
    "                                               'Day of Week', 'Rush_Hour']]) # fit, transform\n",
    "    col_names = oh_enc.get_feature_names() # return column names\n",
    "    oh_df_cv = pd.DataFrame(oh_array_cv, columns = col_names) \n",
    "\n",
    "    # Ordinal Encoder\n",
    "    od_array_cv = od_enc.transform(cv_set[['Month_Day']])\n",
    "    od_df_cv = pd.DataFrame(od_array_cv, columns = ['Month_Day']) \n",
    "\n",
    "    # MinMaxScaler\n",
    "    mm_array_cv = mm_scaler.transform(cv_set[['Year']]) # array\n",
    "    mm_df_cv = pd.DataFrame(mm_array_cv, columns = ['Year']) \n",
    "\n",
    "    # StandardScaler\n",
    "    sd_array_cv = sd_scaler.transform(cv_set[['distance','surge_multiplier']]) # array\n",
    "    sd_df_cv = pd.DataFrame(sd_array_cv, columns = ['distance',  'surge_multiplier']) \n",
    "\n",
    "    # Save the preprocessed data into a pandas dataframe (1 point)\n",
    "    df_merge_cv = pd.concat([oh_df_cv, od_df_cv, mm_df_cv, \n",
    "                          sd_df_cv, le_df_cv], axis = 1) # merge data frames\n",
    "\n",
    "\n",
    "    Y_CV = df_merge_cv['price'] # y-value of test data set\n",
    "    X_CV = df_merge_cv.drop('price', 1)\n",
    "    \n",
    "    \n",
    "    \n",
    "    # tune ridge hyper-parameter, alpha\n",
    "    alpha = np.logspace(-3,4,num=8)\n",
    "    train_score = []\n",
    "    CV_score = []\n",
    "    regs = []\n",
    "    for a in alpha:\n",
    "        reg = Ridge(alpha = a)\n",
    "        reg.fit(X_train,Y_train)\n",
    "        train_score.append(mean_squared_error(Y_train,reg.predict(X_train)))\n",
    "        CV_score.append(mean_squared_error(Y_CV,reg.predict(X_CV)))\n",
    "        regs.append(reg)\n",
    "    # find the best alpha\n",
    "    best_alpha = alpha[np.argmin(CV_score)]\n",
    "    # grab the best model\n",
    "    reg = regs[np.argmin(CV_score)]\n",
    "    # calculate holdout score\n",
    "    test_score = mean_squared_error(Y_test,reg.predict(X_test))\n",
    "    return best_alpha,np.min(CV_score),test_score"
   ]
  },
  {
   "cell_type": "code",
   "execution_count": 135,
   "metadata": {},
   "outputs": [
    {
     "name": "stderr",
     "output_type": "stream",
     "text": [
      "/opt/conda/lib/python3.7/site-packages/sklearn/preprocessing/label.py:235: DataConversionWarning: A column-vector y was passed when a 1d array was expected. Please change the shape of y to (n_samples, ), for example using ravel().\n",
      "  y = column_or_1d(y, warn=True)\n",
      "/opt/conda/lib/python3.7/site-packages/sklearn/preprocessing/label.py:235: DataConversionWarning: A column-vector y was passed when a 1d array was expected. Please change the shape of y to (n_samples, ), for example using ravel().\n",
      "  y = column_or_1d(y, warn=True)\n",
      "/opt/conda/lib/python3.7/site-packages/sklearn/preprocessing/label.py:235: DataConversionWarning: A column-vector y was passed when a 1d array was expected. Please change the shape of y to (n_samples, ), for example using ravel().\n",
      "  y = column_or_1d(y, warn=True)\n",
      "/opt/conda/lib/python3.7/site-packages/sklearn/preprocessing/label.py:235: DataConversionWarning: A column-vector y was passed when a 1d array was expected. Please change the shape of y to (n_samples, ), for example using ravel().\n",
      "  y = column_or_1d(y, warn=True)\n",
      "/opt/conda/lib/python3.7/site-packages/sklearn/preprocessing/label.py:235: DataConversionWarning: A column-vector y was passed when a 1d array was expected. Please change the shape of y to (n_samples, ), for example using ravel().\n",
      "  y = column_or_1d(y, warn=True)\n"
     ]
    },
    {
     "name": "stdout",
     "output_type": "stream",
     "text": [
      "CV MSE: 311.66 +/- 0.0\n",
      "test MSE: 302.54 +/- 0.0\n"
     ]
    }
   ],
   "source": [
    "CV_scores = []\n",
    "test_scores = []\n",
    "for i in range(5):\n",
    "    best_alpha, CV_score, test_score = ML_pipeline_basic(cab_rides, i*42 )\n",
    "    CV_scores.append(CV_score)\n",
    "    test_scores.append(test_score)\n",
    "    \n",
    "print('CV MSE:',np.around(np.mean(CV_scores),2),'+/-',np.around(np.std(CV_scores),2))\n",
    "print('test MSE:',np.around(np.mean(test_scores),2),'+/-',np.around(np.std(test_scores),2))"
   ]
  },
  {
   "cell_type": "code",
   "execution_count": null,
   "metadata": {},
   "outputs": [],
   "source": []
  },
  {
   "cell_type": "markdown",
   "metadata": {},
   "source": [
    "# Feature Importance"
   ]
  },
  {
   "cell_type": "code",
   "execution_count": 136,
   "metadata": {},
   "outputs": [],
   "source": [
    "# permutation"
   ]
  },
  {
   "cell_type": "code",
   "execution_count": 137,
   "metadata": {},
   "outputs": [],
   "source": [
    "# create regressor object \n",
    "\n",
    "regressor = RandomForestRegressor(n_estimators = 1, random_state = 0, max_depth = 6, n_jobs = -1) \n",
    "  \n",
    "# fit the regressor with x and y data \n",
    "regressor.fit(X_train, Y_train)\n",
    "regressor.feature_importances_\n",
    "predictions = regressor.predict(X_test)\n",
    "\n",
    "y_train_pred = regressor.predict(X_train) # predict y-value from X-train\n",
    "y_test_pred = regressor.predict(X_test) # predict y-value from X-test\n",
    "\n",
    "# Step 3: Mean Squared Error\n",
    "mse_rfr = mean_squared_error(Y_test,y_test_pred) "
   ]
  },
  {
   "cell_type": "code",
   "execution_count": 138,
   "metadata": {},
   "outputs": [
    {
     "data": {
      "text/plain": [
       "Index(['x0_Lyft', 'x0_Uber', 'x1_Back Bay', 'x1_Beacon Hill',\n",
       "       'x1_Boston University', 'x1_Fenway', 'x1_Financial District',\n",
       "       'x1_Haymarket Square', 'x1_North End', 'x1_North Station',\n",
       "       'x1_Northeastern University', 'x1_South Station', 'x1_Theatre District',\n",
       "       'x1_West End', 'x2_Back Bay', 'x2_Beacon Hill', 'x2_Boston University',\n",
       "       'x2_Fenway', 'x2_Financial District', 'x2_Haymarket Square',\n",
       "       'x2_North End', 'x2_North Station', 'x2_Northeastern University',\n",
       "       'x2_South Station', 'x2_Theatre District', 'x2_West End', 'x3_Friday',\n",
       "       'x3_Monday', 'x3_Saturday', 'x3_Sunday', 'x3_Thursday', 'x3_Tuesday',\n",
       "       'x3_Wednesday', 'x4_no', 'x4_yes', 'Month_Day', 'Year', 'distance',\n",
       "       'surge_multiplier'],\n",
       "      dtype='object')"
      ]
     },
     "execution_count": 138,
     "metadata": {},
     "output_type": "execute_result"
    }
   ],
   "source": [
    "X_train.columns"
   ]
  },
  {
   "cell_type": "code",
   "execution_count": 171,
   "metadata": {},
   "outputs": [],
   "source": [
    "y_values = regressor.feature_importances_\n",
    "x_values = X_train.columns\n",
    "feature_data = list(zip(X_train.columns,ft_importances))"
   ]
  },
  {
   "cell_type": "code",
   "execution_count": 178,
   "metadata": {},
   "outputs": [
    {
     "data": {
      "text/plain": [
       "[('x0_Lyft', 0.004573778095417177),\n",
       " ('x0_Uber', 0.003768291629825923),\n",
       " ('x1_Back Bay', 0.00041609512658368424),\n",
       " ('x1_Beacon Hill', 0.0020384306304468696),\n",
       " ('x1_Boston University', 0.0),\n",
       " ('x1_Fenway', 0.0),\n",
       " ('x1_Financial District', 0.0),\n",
       " ('x1_Haymarket Square', 0.0),\n",
       " ('x1_North End', 0.0),\n",
       " ('x1_North Station', 0.0),\n",
       " ('x1_Northeastern University', 0.0),\n",
       " ('x1_South Station', 0.000511414509709705),\n",
       " ('x1_Theatre District', 0.00027568304396785793),\n",
       " ('x1_West End', 0.0),\n",
       " ('x2_Back Bay', 0.0),\n",
       " ('x2_Beacon Hill', 0.0033391189233535866),\n",
       " ('x2_Boston University', 0.00042355531936565826),\n",
       " ('x2_Fenway', 0.0),\n",
       " ('x2_Financial District', 0.0006102528282595477),\n",
       " ('x2_Haymarket Square', 0.0),\n",
       " ('x2_North End', 0.0021260774150338555),\n",
       " ('x2_North Station', 0.0),\n",
       " ('x2_Northeastern University', 0.0003460501235350422),\n",
       " ('x2_South Station', 0.000165968086566215),\n",
       " ('x2_Theatre District', 0.0),\n",
       " ('x2_West End', 0.00020049377023503116),\n",
       " ('x3_Friday', 0.0),\n",
       " ('x3_Monday', 0.00023695217051715697),\n",
       " ('x3_Saturday', 0.00017119397418168482),\n",
       " ('x3_Sunday', 0.00021955242863921982),\n",
       " ('x3_Thursday', 0.0),\n",
       " ('x3_Tuesday', 0.0),\n",
       " ('x3_Wednesday', 0.0),\n",
       " ('x4_no', 0.0),\n",
       " ('x4_yes', 0.0),\n",
       " ('Month_Day', 0.001019319800847013),\n",
       " ('Year', 0.0),\n",
       " ('distance', 0.6860383355577),\n",
       " ('surge_multiplier', 0.2935194365658148)]"
      ]
     },
     "execution_count": 178,
     "metadata": {},
     "output_type": "execute_result"
    }
   ],
   "source": [
    "feature_data"
   ]
  },
  {
   "cell_type": "code",
   "execution_count": 176,
   "metadata": {},
   "outputs": [],
   "source": [
    "df = pd.DataFrame(y_values, index=x_values)"
   ]
  },
  {
   "cell_type": "code",
   "execution_count": 183,
   "metadata": {},
   "outputs": [
    {
     "data": {
      "image/png": "[encoded data removed]",
      "text/plain": [
       "<Figure size 432x288 with 1 Axes>"
      ]
     },
     "metadata": {
      "needs_background": "light"
     },
     "output_type": "display_data"
    }
   ],
   "source": [
    "ax = df.plot.bar()"
   ]
  },
  {
   "cell_type": "code",
   "execution_count": null,
   "metadata": {},
   "outputs": [],
   "source": []
  },
  {
   "cell_type": "code",
   "execution_count": null,
   "metadata": {},
   "outputs": [],
   "source": []
  }
 ],
 "metadata": {
  "kernelspec": {
   "display_name": "Python 3",
   "language": "python",
   "name": "python3"
  },
  "language_info": {
   "codemirror_mode": {
    "name": "ipython",
    "version": 3
   },
   "file_extension": ".py",
   "mimetype": "text/x-python",
   "name": "python",
   "nbconvert_exporter": "python",
   "pygments_lexer": "ipython3",
   "version": "3.7.3"
  }
 },
 "nbformat": 4,
 "nbformat_minor": 4
}
